{
  "nbformat": 4,
  "nbformat_minor": 0,
  "metadata": {
    "colab": {
      "provenance": [],
      "authorship_tag": "ABX9TyODeyJxy2XVUWJsjfnthj1b"
    },
    "kernelspec": {
      "name": "python3",
      "display_name": "Python 3"
    },
    "language_info": {
      "name": "python"
    }
  },
  "cells": [
    {
      "cell_type": "markdown",
      "source": [
        "# In this project, the binary classifier marks a quote as either sarcastic or non-sarcastic, based on the text of the quote."
      ],
      "metadata": {
        "id": "5wgrt82aEQ8K"
      }
    },
    {
      "cell_type": "markdown",
      "source": [
        "### Import the libraries and preprocess the data"
      ],
      "metadata": {
        "id": "kC9M_ICUEo8b"
      }
    },
    {
      "cell_type": "code",
      "execution_count": 1,
      "metadata": {
        "id": "bFiSVP9BEKhO"
      },
      "outputs": [],
      "source": [
        "import numpy as np\n",
        "import json\n",
        "import tensorflow as tf\n",
        "from tensorflow import keras"
      ]
    },
    {
      "cell_type": "code",
      "source": [
        "# Download the sarcastic contents\n",
        "!wget https://storage.googleapis.com/tensorflow-1-public/course3/sarcasm.json"
      ],
      "metadata": {
        "colab": {
          "base_uri": "https://localhost:8080/"
        },
        "id": "9DMrtngYEzN6",
        "outputId": "7071a779-860e-47e6-a34d-ea83188f7e36"
      },
      "execution_count": 2,
      "outputs": [
        {
          "output_type": "stream",
          "name": "stdout",
          "text": [
            "--2024-05-19 20:25:22--  https://storage.googleapis.com/tensorflow-1-public/course3/sarcasm.json\n",
            "Resolving storage.googleapis.com (storage.googleapis.com)... 142.251.2.207, 74.125.137.207, 142.250.101.207, ...\n",
            "Connecting to storage.googleapis.com (storage.googleapis.com)|142.251.2.207|:443... connected.\n",
            "HTTP request sent, awaiting response... 200 OK\n",
            "Length: 5643545 (5.4M) [application/json]\n",
            "Saving to: ‘sarcasm.json’\n",
            "\n",
            "sarcasm.json        100%[===================>]   5.38M  --.-KB/s    in 0.09s   \n",
            "\n",
            "2024-05-19 20:25:22 (59.7 MB/s) - ‘sarcasm.json’ saved [5643545/5643545]\n",
            "\n"
          ]
        }
      ]
    },
    {
      "cell_type": "code",
      "source": [
        "# Collect sentences and labels of the dataset\n",
        "with open('./sarcasm.json','r') as f:\n",
        "  datastore = json.load(f)\n",
        "\n",
        "tweets = []\n",
        "labels = []\n",
        "\n",
        "for item in datastore:\n",
        "  tweets.append(item['headline'])\n",
        "  labels.append(item['is_sarcastic'])\n",
        "\n",
        "labels = np.array(labels)\n",
        "\n",
        "labels.shape"
      ],
      "metadata": {
        "colab": {
          "base_uri": "https://localhost:8080/"
        },
        "id": "BE0qNZv-E_Fd",
        "outputId": "6d156d25-c0f4-4562-da3a-a2d9379187c7"
      },
      "execution_count": 3,
      "outputs": [
        {
          "output_type": "execute_result",
          "data": {
            "text/plain": [
              "(26709,)"
            ]
          },
          "metadata": {},
          "execution_count": 3
        }
      ]
    },
    {
      "cell_type": "markdown",
      "source": [
        "### Set the hyperparametes and split the training testing dataset"
      ],
      "metadata": {
        "id": "DKtrNysCI669"
      }
    },
    {
      "cell_type": "code",
      "source": [
        "vocab_size = 12000\n",
        "embedding_dim = 16\n",
        "max_length = 16\n",
        "trun_type = \"post\"\n",
        "padding_type = \"post\"\n",
        "training_size = 20000\n",
        "oov_tok = \"<OOV>\"\n",
        "\n",
        "# Get the training sequences\n",
        "training_tweets = tweets[:training_size]\n",
        "training_labels = labels[:training_size]\n",
        "\n",
        "# Get the testing sequences\n",
        "testing_tweets = tweets[training_size:]\n",
        "testing_labels = labels[training_size:]"
      ],
      "metadata": {
        "id": "2c287FZSFW5Q"
      },
      "execution_count": 4,
      "outputs": []
    },
    {
      "cell_type": "markdown",
      "source": [
        "### Build the padded sequence based on the hyperparameters"
      ],
      "metadata": {
        "id": "PS0GGhsbKEW9"
      }
    },
    {
      "cell_type": "code",
      "source": [
        "from keras.preprocessing.text import Tokenizer\n",
        "from keras.preprocessing.sequence import pad_sequences\n",
        "\n",
        "# Initialize the tokenizer instance\n",
        "tokenizer = Tokenizer(num_words=vocab_size, oov_token = oov_tok)\n",
        "tokenizer.fit_on_texts(training_tweets)\n",
        "word_index = tokenizer.word_index\n",
        "\n",
        "# Generate and pad training tweets\n",
        "training_sequences = tokenizer.texts_to_sequences(training_tweets)\n",
        "padded_sequences = pad_sequences(training_sequences, maxlen=max_length, truncating=trun_type, padding=padding_type)\n",
        "\n",
        "# Generate and pad testing tweets\n",
        "testing_sequences = tokenizer.texts_to_sequences(testing_tweets)\n",
        "padded__test_sequences = pad_sequences(testing_sequences, maxlen=max_length, truncating=trun_type, padding=padding_type)"
      ],
      "metadata": {
        "id": "1RoOA06hJWR9"
      },
      "execution_count": 5,
      "outputs": []
    },
    {
      "cell_type": "code",
      "source": [
        "'''import tensorflow as tf\n",
        "\n",
        "# Initialize a GlobalAveragePooling1D (GAP1D) layer\n",
        "gap1d_layer = tf.keras.layers.GlobalAveragePooling1D()\n",
        "\n",
        "# Define sample array\n",
        "sample_array = np.array([[[10,2],[1,3],[1,1]]])\n",
        "\n",
        "# Print shape and contents of sample array\n",
        "print(f'shape of sample_array = {sample_array.shape}')\n",
        "print(f'sample array: {sample_array}')\n",
        "\n",
        "# Pass the sample array to the GAP1D layer\n",
        "output = gap1d_layer(sample_array)\n",
        "\n",
        "# Print shape and contents of the GAP1D output array\n",
        "print(f'output shape of gap1d_layer: {output.shape}')\n",
        "print(f'output array of gap1d_layer: {output.numpy()}')'''"
      ],
      "metadata": {
        "colab": {
          "base_uri": "https://localhost:8080/",
          "height": 89
        },
        "id": "sqXkyYg7Nbs0",
        "outputId": "1037f605-ba74-49f5-d8f4-3d6b6c3cfc3c"
      },
      "execution_count": 7,
      "outputs": [
        {
          "output_type": "execute_result",
          "data": {
            "text/plain": [
              "\"import tensorflow as tf\\n\\n# Initialize a GlobalAveragePooling1D (GAP1D) layer\\ngap1d_layer = tf.keras.layers.GlobalAveragePooling1D()\\n\\n# Define sample array\\nsample_array = np.array([[[10,2],[1,3],[1,1]]])\\n\\n# Print shape and contents of sample array\\nprint(f'shape of sample_array = {sample_array.shape}')\\nprint(f'sample array: {sample_array}')\\n\\n# Pass the sample array to the GAP1D layer\\noutput = gap1d_layer(sample_array)\\n\\n# Print shape and contents of the GAP1D output array\\nprint(f'output shape of gap1d_layer: {output.shape}')\\nprint(f'output array of gap1d_layer: {output.numpy()}')\""
            ],
            "application/vnd.google.colaboratory.intrinsic+json": {
              "type": "string"
            }
          },
          "metadata": {},
          "execution_count": 7
        }
      ]
    },
    {
      "cell_type": "markdown",
      "source": [
        "### Build and compile the model"
      ],
      "metadata": {
        "id": "KkQA-tZFibXg"
      }
    },
    {
      "cell_type": "code",
      "source": [
        "model = keras.Sequential([\n",
        "    keras.layers.Embedding(vocab_size, embedding_dim, input_length=max_length),\n",
        "    keras.layers.GlobalAveragePooling1D(),\n",
        "    #keras.layers.Flatten(),\n",
        "    keras.layers.Dense(16, activation=tf.nn.relu),\n",
        "    keras.layers.Dense(1, activation=tf.nn.sigmoid)\n",
        "])\n",
        "\n",
        "print(model.summary())\n",
        "\n",
        "model.compile(loss=keras.losses.BinaryCrossentropy(), optimizer=keras.optimizers.Adam(), metrics=['accuracy'])"
      ],
      "metadata": {
        "colab": {
          "base_uri": "https://localhost:8080/"
        },
        "id": "4hLZ0BBnh8xf",
        "outputId": "621d3161-aaa7-483d-b425-7ac381b02b2f"
      },
      "execution_count": 15,
      "outputs": [
        {
          "output_type": "stream",
          "name": "stdout",
          "text": [
            "Model: \"sequential_6\"\n",
            "_________________________________________________________________\n",
            " Layer (type)                Output Shape              Param #   \n",
            "=================================================================\n",
            " embedding_7 (Embedding)     (None, 16, 16)            192000    \n",
            "                                                                 \n",
            " global_average_pooling1d_6  (None, 16)                0         \n",
            "  (GlobalAveragePooling1D)                                       \n",
            "                                                                 \n",
            " dense_12 (Dense)            (None, 16)                272       \n",
            "                                                                 \n",
            " dense_13 (Dense)            (None, 1)                 17        \n",
            "                                                                 \n",
            "=================================================================\n",
            "Total params: 192289 (751.13 KB)\n",
            "Trainable params: 192289 (751.13 KB)\n",
            "Non-trainable params: 0 (0.00 Byte)\n",
            "_________________________________________________________________\n",
            "None\n"
          ]
        }
      ]
    },
    {
      "cell_type": "markdown",
      "source": [
        "### Train the model and observe the performance"
      ],
      "metadata": {
        "id": "HakfgvVmliQd"
      }
    },
    {
      "cell_type": "code",
      "source": [
        "num_epoch = 30\n",
        "\n",
        "history = model.fit(padded_sequences, training_labels, epochs=num_epoch, validation_data=(padded__test_sequences, testing_labels), verbose=2)"
      ],
      "metadata": {
        "colab": {
          "base_uri": "https://localhost:8080/"
        },
        "id": "aPdy9zqbkoZA",
        "outputId": "6eb2ca98-424f-4753-d20c-83f8dd1c633f"
      },
      "execution_count": 18,
      "outputs": [
        {
          "output_type": "stream",
          "name": "stdout",
          "text": [
            "Epoch 1/30\n",
            "625/625 - 5s - loss: 0.0011 - accuracy: 0.9997 - val_loss: 2.2356 - val_accuracy: 0.8007 - 5s/epoch - 8ms/step\n",
            "Epoch 2/30\n",
            "625/625 - 2s - loss: 8.6066e-04 - accuracy: 0.9998 - val_loss: 2.2708 - val_accuracy: 0.8012 - 2s/epoch - 4ms/step\n",
            "Epoch 3/30\n",
            "625/625 - 2s - loss: 8.8307e-04 - accuracy: 0.9998 - val_loss: 2.3214 - val_accuracy: 0.8012 - 2s/epoch - 4ms/step\n",
            "Epoch 4/30\n",
            "625/625 - 2s - loss: 0.0022 - accuracy: 0.9992 - val_loss: 2.2958 - val_accuracy: 0.8032 - 2s/epoch - 4ms/step\n",
            "Epoch 5/30\n",
            "625/625 - 3s - loss: 0.0021 - accuracy: 0.9992 - val_loss: 2.3600 - val_accuracy: 0.8040 - 3s/epoch - 5ms/step\n",
            "Epoch 6/30\n",
            "625/625 - 3s - loss: 7.2811e-04 - accuracy: 0.9998 - val_loss: 2.4361 - val_accuracy: 0.8006 - 3s/epoch - 5ms/step\n",
            "Epoch 7/30\n",
            "625/625 - 2s - loss: 7.9291e-04 - accuracy: 0.9998 - val_loss: 2.5169 - val_accuracy: 0.8006 - 2s/epoch - 4ms/step\n",
            "Epoch 8/30\n",
            "625/625 - 2s - loss: 0.0011 - accuracy: 0.9997 - val_loss: 2.5012 - val_accuracy: 0.7997 - 2s/epoch - 4ms/step\n",
            "Epoch 9/30\n",
            "625/625 - 2s - loss: 0.0011 - accuracy: 0.9997 - val_loss: 2.6387 - val_accuracy: 0.7997 - 2s/epoch - 4ms/step\n",
            "Epoch 10/30\n",
            "625/625 - 3s - loss: 8.8665e-04 - accuracy: 0.9997 - val_loss: 2.5859 - val_accuracy: 0.7994 - 3s/epoch - 4ms/step\n",
            "Epoch 11/30\n",
            "625/625 - 3s - loss: 8.4306e-04 - accuracy: 0.9997 - val_loss: 2.5913 - val_accuracy: 0.8009 - 3s/epoch - 5ms/step\n",
            "Epoch 12/30\n",
            "625/625 - 2s - loss: 9.0531e-04 - accuracy: 0.9998 - val_loss: 2.6613 - val_accuracy: 0.7994 - 2s/epoch - 4ms/step\n",
            "Epoch 13/30\n",
            "625/625 - 2s - loss: 9.4415e-04 - accuracy: 0.9998 - val_loss: 2.7291 - val_accuracy: 0.7998 - 2s/epoch - 3ms/step\n",
            "Epoch 14/30\n",
            "625/625 - 2s - loss: 9.1366e-04 - accuracy: 0.9998 - val_loss: 2.7819 - val_accuracy: 0.8030 - 2s/epoch - 3ms/step\n",
            "Epoch 15/30\n",
            "625/625 - 2s - loss: 5.0288e-04 - accuracy: 0.9999 - val_loss: 2.7379 - val_accuracy: 0.7945 - 2s/epoch - 3ms/step\n",
            "Epoch 16/30\n",
            "625/625 - 4s - loss: 5.5505e-04 - accuracy: 0.9997 - val_loss: 2.8244 - val_accuracy: 0.7982 - 4s/epoch - 6ms/step\n",
            "Epoch 17/30\n",
            "625/625 - 2s - loss: 9.9138e-04 - accuracy: 0.9997 - val_loss: 2.8594 - val_accuracy: 0.7979 - 2s/epoch - 4ms/step\n",
            "Epoch 18/30\n",
            "625/625 - 2s - loss: 8.7216e-04 - accuracy: 0.9997 - val_loss: 2.9054 - val_accuracy: 0.7994 - 2s/epoch - 3ms/step\n",
            "Epoch 19/30\n",
            "625/625 - 2s - loss: 0.0016 - accuracy: 0.9995 - val_loss: 2.9363 - val_accuracy: 0.7976 - 2s/epoch - 4ms/step\n",
            "Epoch 20/30\n",
            "625/625 - 2s - loss: 8.1752e-04 - accuracy: 0.9997 - val_loss: 2.9624 - val_accuracy: 0.7995 - 2s/epoch - 3ms/step\n",
            "Epoch 21/30\n",
            "625/625 - 3s - loss: 0.0012 - accuracy: 0.9997 - val_loss: 3.0008 - val_accuracy: 0.7967 - 3s/epoch - 5ms/step\n",
            "Epoch 22/30\n",
            "625/625 - 3s - loss: 4.2854e-04 - accuracy: 0.9998 - val_loss: 2.9985 - val_accuracy: 0.7977 - 3s/epoch - 5ms/step\n",
            "Epoch 23/30\n",
            "625/625 - 2s - loss: 7.2492e-04 - accuracy: 0.9998 - val_loss: 2.9804 - val_accuracy: 0.7968 - 2s/epoch - 4ms/step\n",
            "Epoch 24/30\n",
            "625/625 - 2s - loss: 5.9337e-04 - accuracy: 0.9998 - val_loss: 3.0785 - val_accuracy: 0.7964 - 2s/epoch - 4ms/step\n",
            "Epoch 25/30\n",
            "625/625 - 2s - loss: 6.7792e-04 - accuracy: 0.9997 - val_loss: 3.1329 - val_accuracy: 0.7959 - 2s/epoch - 4ms/step\n",
            "Epoch 26/30\n",
            "625/625 - 2s - loss: 4.7455e-04 - accuracy: 0.9999 - val_loss: 3.0942 - val_accuracy: 0.7959 - 2s/epoch - 4ms/step\n",
            "Epoch 27/30\n",
            "625/625 - 3s - loss: 0.0011 - accuracy: 0.9998 - val_loss: 3.1176 - val_accuracy: 0.8004 - 3s/epoch - 5ms/step\n",
            "Epoch 28/30\n",
            "625/625 - 2s - loss: 6.7690e-04 - accuracy: 0.9998 - val_loss: 3.1829 - val_accuracy: 0.8003 - 2s/epoch - 4ms/step\n",
            "Epoch 29/30\n",
            "625/625 - 2s - loss: 0.0011 - accuracy: 0.9995 - val_loss: 3.1003 - val_accuracy: 0.7974 - 2s/epoch - 4ms/step\n",
            "Epoch 30/30\n",
            "625/625 - 2s - loss: 0.0011 - accuracy: 0.9997 - val_loss: 3.2278 - val_accuracy: 0.7962 - 2s/epoch - 3ms/step\n"
          ]
        }
      ]
    },
    {
      "cell_type": "markdown",
      "source": [
        "### Visualize the result"
      ],
      "metadata": {
        "id": "7lqO5nizmlP-"
      }
    },
    {
      "cell_type": "code",
      "source": [
        "import matplotlib.pyplot as plt\n",
        "\n",
        "# Plot utility\n",
        "def plot_graphs(history, string):\n",
        "  plt.plot(history.history[string])\n",
        "  plt.plot(history.history['val_'+string])\n",
        "  plt.xlabel(\"Epochs\")\n",
        "  plt.ylabel(string)\n",
        "  plt.legend([string, 'val_'+string])\n",
        "  plt.show()\n",
        "\n",
        "# Plot the accuracy and loss\n",
        "plot_graphs(history, \"accuracy\")\n",
        "plot_graphs(history, \"loss\")"
      ],
      "metadata": {
        "colab": {
          "base_uri": "https://localhost:8080/",
          "height": 881
        },
        "id": "S3CMJv1amQcm",
        "outputId": "b14188b5-bd1e-4956-a590-a08d65062ccd"
      },
      "execution_count": 19,
      "outputs": [
        {
          "output_type": "display_data",
          "data": {
            "text/plain": [
              "<Figure size 640x480 with 1 Axes>"
            ],
            "image/png": "[encoded data removed]"
          },
          "metadata": {}
        },
        {
          "output_type": "display_data",
          "data": {
            "text/plain": [
              "<Figure size 640x480 with 1 Axes>"
            ],
            "image/png": "[encoded data removed]"
          },
          "metadata": {}
        }
      ]
    },
    {
      "cell_type": "code",
      "source": [
        "# Get the index-word dictionary\n",
        "reverse_word_index = tokenizer.index_word\n",
        "\n",
        "# Get the embedding layer from the model (i.e. first layer)\n",
        "embedding_layer = model.layers[0]\n",
        "\n",
        "# Get the weights of the embedding layer\n",
        "embedding_weights = embedding_layer.get_weights()[0]\n",
        "\n",
        "# Print the shape. Expected is (vocab_size, embedding_dim)\n",
        "print(embedding_weights.shape)\n",
        "\n",
        "import io\n",
        "\n",
        "# Open writeable files\n",
        "out_v = io.open('vecs.tsv', 'w', encoding='utf-8')\n",
        "out_m = io.open('meta.tsv', 'w', encoding='utf-8')\n",
        "\n",
        "# Initialize the loop. Start counting at `1` because `0` is just for the padding\n",
        "for word_num in range(1, vocab_size):\n",
        "\n",
        "  # Get the word associated at the current index\n",
        "  word_name = reverse_word_index[word_num]\n",
        "\n",
        "  # Get the embedding weights associated with the current index\n",
        "  word_embedding = embedding_weights[word_num]\n",
        "\n",
        "  # Write the word name\n",
        "  out_m.write(word_name + \"\\n\")\n",
        "\n",
        "  # Write the word embedding\n",
        "  out_v.write('\\t'.join([str(x) for x in word_embedding]) + \"\\n\")\n",
        "\n",
        "# Close the files\n",
        "out_v.close()\n",
        "out_m.close()\n",
        "\n",
        "# Import files utilities in Colab\n",
        "try:\n",
        "  from google.colab import files\n",
        "except ImportError:\n",
        "  pass\n",
        "\n",
        "# Download the files\n",
        "else:\n",
        "  files.download('vecs.tsv')\n",
        "  files.download('meta.tsv')"
      ],
      "metadata": {
        "colab": {
          "base_uri": "https://localhost:8080/",
          "height": 35
        },
        "id": "WTOEwhSUmndm",
        "outputId": "6eac5ea1-4a86-4b11-90bc-853f92590ab1"
      },
      "execution_count": 20,
      "outputs": [
        {
          "output_type": "stream",
          "name": "stdout",
          "text": [
            "(12000, 16)\n"
          ]
        },
        {
          "output_type": "display_data",
          "data": {
            "text/plain": [
              "<IPython.core.display.Javascript object>"
            ],
            "application/javascript": [
              "\n",
              "    async function download(id, filename, size) {\n",
              "      if (!google.colab.kernel.accessAllowed) {\n",
              "        return;\n",
              "      }\n",
              "      const div = document.createElement('div');\n",
              "      const label = document.createElement('label');\n",
              "      label.textContent = `Downloading \"${filename}\": `;\n",
              "      div.appendChild(label);\n",
              "      const progress = document.createElement('progress');\n",
              "      progress.max = size;\n",
              "      div.appendChild(progress);\n",
              "      document.body.appendChild(div);\n",
              "\n",
              "      const buffers = [];\n",
              "      let downloaded = 0;\n",
              "\n",
              "      const channel = await google.colab.kernel.comms.open(id);\n",
              "      // Send a message to notify the kernel that we're ready.\n",
              "      channel.send({})\n",
              "\n",
              "      for await (const message of channel.messages) {\n",
              "        // Send a message to notify the kernel that we're ready.\n",
              "        channel.send({})\n",
              "        if (message.buffers) {\n",
              "          for (const buffer of message.buffers) {\n",
              "            buffers.push(buffer);\n",
              "            downloaded += buffer.byteLength;\n",
              "            progress.value = downloaded;\n",
              "          }\n",
              "        }\n",
              "      }\n",
              "      const blob = new Blob(buffers, {type: 'application/binary'});\n",
              "      const a = document.createElement('a');\n",
              "      a.href = window.URL.createObjectURL(blob);\n",
              "      a.download = filename;\n",
              "      div.appendChild(a);\n",
              "      a.click();\n",
              "      div.remove();\n",
              "    }\n",
              "  "
            ]
          },
          "metadata": {}
        },
        {
          "output_type": "display_data",
          "data": {
            "text/plain": [
              "<IPython.core.display.Javascript object>"
            ],
            "application/javascript": [
              "download(\"download_1aa9bdc5-7786-45c4-84bb-88318caf59c8\", \"vecs.tsv\", 2205721)"
            ]
          },
          "metadata": {}
        },
        {
          "output_type": "display_data",
          "data": {
            "text/plain": [
              "<IPython.core.display.Javascript object>"
            ],
            "application/javascript": [
              "\n",
              "    async function download(id, filename, size) {\n",
              "      if (!google.colab.kernel.accessAllowed) {\n",
              "        return;\n",
              "      }\n",
              "      const div = document.createElement('div');\n",
              "      const label = document.createElement('label');\n",
              "      label.textContent = `Downloading \"${filename}\": `;\n",
              "      div.appendChild(label);\n",
              "      const progress = document.createElement('progress');\n",
              "      progress.max = size;\n",
              "      div.appendChild(progress);\n",
              "      document.body.appendChild(div);\n",
              "\n",
              "      const buffers = [];\n",
              "      let downloaded = 0;\n",
              "\n",
              "      const channel = await google.colab.kernel.comms.open(id);\n",
              "      // Send a message to notify the kernel that we're ready.\n",
              "      channel.send({})\n",
              "\n",
              "      for await (const message of channel.messages) {\n",
              "        // Send a message to notify the kernel that we're ready.\n",
              "        channel.send({})\n",
              "        if (message.buffers) {\n",
              "          for (const buffer of message.buffers) {\n",
              "            buffers.push(buffer);\n",
              "            downloaded += buffer.byteLength;\n",
              "            progress.value = downloaded;\n",
              "          }\n",
              "        }\n",
              "      }\n",
              "      const blob = new Blob(buffers, {type: 'application/binary'});\n",
              "      const a = document.createElement('a');\n",
              "      a.href = window.URL.createObjectURL(blob);\n",
              "      a.download = filename;\n",
              "      div.appendChild(a);\n",
              "      a.click();\n",
              "      div.remove();\n",
              "    }\n",
              "  "
            ]
          },
          "metadata": {}
        },
        {
          "output_type": "display_data",
          "data": {
            "text/plain": [
              "<IPython.core.display.Javascript object>"
            ],
            "application/javascript": [
              "download(\"download_dc770aaa-6253-4dd8-9551-a80da67e0f53\", \"meta.tsv\", 92448)"
            ]
          },
          "metadata": {}
        }
      ]
    },
    {
      "cell_type": "code",
      "source": [],
      "metadata": {
        "id": "qxaSEG8KpzrP"
      },
      "execution_count": null,
      "outputs": []
    }
  ]
}