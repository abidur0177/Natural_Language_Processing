{
  "nbformat": 4,
  "nbformat_minor": 0,
  "metadata": {
    "colab": {
      "provenance": [],
      "authorship_tag": "ABX9TyOVWf+eOeA6IisSLtAPrfWy",
      "include_colab_link": true
    },
    "kernelspec": {
      "name": "python3",
      "display_name": "Python 3"
    },
    "language_info": {
      "name": "python"
    }
  },
  "cells": [
    {
      "cell_type": "markdown",
      "metadata": {
        "id": "view-in-github",
        "colab_type": "text"
      },
      "source": [
        "<a href=\"https://colab.research.google.com/github/abidur0177/Natural_Language_Processing/blob/main/IMDB_review_single_layer_LSTM.ipynb\" target=\"_parent\"><img src=\"https://colab.research.google.com/assets/colab-badge.svg\" alt=\"Open In Colab\"/></a>"
      ]
    },
    {
      "cell_type": "markdown",
      "source": [
        "# In this project, I will classify IMDB reviews with single layer LSTM architecture. I will use the subwords8k pre-tokenized IMDB Reviews dataset for this project."
      ],
      "metadata": {
        "id": "NjiqV3UA0Ri6"
      }
    },
    {
      "cell_type": "markdown",
      "source": [
        "### Import the libraries and dataset"
      ],
      "metadata": {
        "id": "TkcwIjIW0kjz"
      }
    },
    {
      "cell_type": "code",
      "execution_count": 2,
      "metadata": {
        "id": "elkfmROBz8SQ"
      },
      "outputs": [],
      "source": [
        "import tensorflow as tf\n",
        "import tensorflow_datasets as tfds"
      ]
    },
    {
      "cell_type": "code",
      "source": [
        "# Download the dataset\n",
        "dataset, info = tfds.load(\"imdb_reviews/subwords8k\", with_info=True, as_supervised=True)"
      ],
      "metadata": {
        "colab": {
          "base_uri": "https://localhost:8080/"
        },
        "id": "IGXb7Mo70s9j",
        "outputId": "bd91c3dd-7791-4fbf-d285-7ded2b52895c"
      },
      "execution_count": 7,
      "outputs": [
        {
          "output_type": "stream",
          "name": "stderr",
          "text": [
            "WARNING:absl:TFDS datasets with text encoding are deprecated and will be removed in a future version. Instead, you should use the plain text version and tokenize the text using `tensorflow_text` (See: https://www.tensorflow.org/tutorials/tensorflow_text/intro#tfdata_example)\n"
          ]
        }
      ]
    },
    {
      "cell_type": "code",
      "source": [
        "# See the info about the dataset\n",
        "info"
      ],
      "metadata": {
        "colab": {
          "base_uri": "https://localhost:8080/"
        },
        "id": "7XEmG1V11DvT",
        "outputId": "2b321778-39c5-4883-959d-e999657ea8ec"
      },
      "execution_count": 9,
      "outputs": [
        {
          "output_type": "execute_result",
          "data": {
            "text/plain": [
              "tfds.core.DatasetInfo(\n",
              "    name='imdb_reviews',\n",
              "    full_name='imdb_reviews/subwords8k/1.0.0',\n",
              "    description=\"\"\"\n",
              "    Large Movie Review Dataset. This is a dataset for binary sentiment\n",
              "    classification containing substantially more data than previous benchmark\n",
              "    datasets. We provide a set of 25,000 highly polar movie reviews for training,\n",
              "    and 25,000 for testing. There is additional unlabeled data for use as well.\n",
              "    \"\"\",\n",
              "    config_description=\"\"\"\n",
              "    Uses `tfds.deprecated.text.SubwordTextEncoder` with 8k vocab size\n",
              "    \"\"\",\n",
              "    homepage='http://ai.stanford.edu/~amaas/data/sentiment/',\n",
              "    data_dir='/root/tensorflow_datasets/imdb_reviews/subwords8k/1.0.0',\n",
              "    file_format=tfrecord,\n",
              "    download_size=80.23 MiB,\n",
              "    dataset_size=54.72 MiB,\n",
              "    features=FeaturesDict({\n",
              "        'label': ClassLabel(shape=(), dtype=int64, num_classes=2),\n",
              "        'text': Text(shape=(None,), dtype=int64, encoder=<SubwordTextEncoder vocab_size=8185>),\n",
              "    }),\n",
              "    supervised_keys=('text', 'label'),\n",
              "    disable_shuffling=False,\n",
              "    splits={\n",
              "        'test': <SplitInfo num_examples=25000, num_shards=1>,\n",
              "        'train': <SplitInfo num_examples=25000, num_shards=1>,\n",
              "        'unsupervised': <SplitInfo num_examples=50000, num_shards=1>,\n",
              "    },\n",
              "    citation=\"\"\"@InProceedings{maas-EtAl:2011:ACL-HLT2011,\n",
              "      author    = {Maas, Andrew L.  and  Daly, Raymond E.  and  Pham, Peter T.  and  Huang, Dan  and  Ng, Andrew Y.  and  Potts, Christopher},\n",
              "      title     = {Learning Word Vectors for Sentiment Analysis},\n",
              "      booktitle = {Proceedings of the 49th Annual Meeting of the Association for Computational Linguistics: Human Language Technologies},\n",
              "      month     = {June},\n",
              "      year      = {2011},\n",
              "      address   = {Portland, Oregon, USA},\n",
              "      publisher = {Association for Computational Linguistics},\n",
              "      pages     = {142--150},\n",
              "      url       = {http://www.aclweb.org/anthology/P11-1015}\n",
              "    }\"\"\",\n",
              ")"
            ]
          },
          "metadata": {},
          "execution_count": 9
        }
      ]
    },
    {
      "cell_type": "code",
      "source": [
        "# Get the subword tokenizer from the \"Features\" parameter of the info\n",
        "tokenizer = info.features['text'].encoder"
      ],
      "metadata": {
        "id": "zdLhxj3a2AkX"
      },
      "execution_count": 10,
      "outputs": []
    },
    {
      "cell_type": "markdown",
      "source": [
        "### Prepare the Dataset"
      ],
      "metadata": {
        "id": "b2UZZq274rfs"
      }
    },
    {
      "cell_type": "code",
      "source": [
        "# Get the training and testing dataset\n",
        "train_data, test_data = dataset['train'], dataset['test']\n",
        "\n",
        "# Shuffle the training dataset\n",
        "# First define the batch size\n",
        "buffer_size =12000\n",
        "train_dataset = train_data.shuffle(buffer_size)\n",
        "\n",
        "# Define the batch and pad the sequences\n",
        "batch_size = 256\n",
        "train_dataset = train_dataset.padded_batch(batch_size)\n",
        "test_dataset = test_data.padded_batch(batch_size)"
      ],
      "metadata": {
        "id": "4F3nliyV2lqM"
      },
      "execution_count": 22,
      "outputs": []
    },
    {
      "cell_type": "markdown",
      "source": [
        "### Build and compile the model"
      ],
      "metadata": {
        "id": "B5tQDSMM8lKS"
      }
    },
    {
      "cell_type": "code",
      "source": [
        "from tensorflow import keras\n",
        "\n",
        "# Define the dimension of each layer\n",
        "embed_dim = 32\n",
        "lstm_dim = 16\n",
        "dense_dim = 16\n",
        "\n",
        "# Define the model architecture\n",
        "model = keras.Sequential([\n",
        "    keras.layers.Embedding(tokenizer.vocab_size, embed_dim),\n",
        "    keras.layers.Bidirectional(keras.layers.LSTM(lstm_dim)),\n",
        "    keras.layers.Dense(dense_dim, activation=tf.nn.relu),\n",
        "    keras.layers.Dense(1, activation=tf.nn.sigmoid)\n",
        "])\n",
        "\n",
        "model.summary()"
      ],
      "metadata": {
        "colab": {
          "base_uri": "https://localhost:8080/"
        },
        "id": "zKNkk5L247NX",
        "outputId": "ec30a6e2-e188-48ee-e635-2c5a23d1ec64"
      },
      "execution_count": 28,
      "outputs": [
        {
          "output_type": "stream",
          "name": "stdout",
          "text": [
            "Model: \"sequential_5\"\n",
            "_________________________________________________________________\n",
            " Layer (type)                Output Shape              Param #   \n",
            "=================================================================\n",
            " embedding_3 (Embedding)     (None, None, 32)          261920    \n",
            "                                                                 \n",
            " bidirectional_3 (Bidirecti  (None, 32)                6272      \n",
            " onal)                                                           \n",
            "                                                                 \n",
            " dense_6 (Dense)             (None, 16)                528       \n",
            "                                                                 \n",
            " dense_7 (Dense)             (None, 1)                 17        \n",
            "                                                                 \n",
            "=================================================================\n",
            "Total params: 268737 (1.03 MB)\n",
            "Trainable params: 268737 (1.03 MB)\n",
            "Non-trainable params: 0 (0.00 Byte)\n",
            "_________________________________________________________________\n"
          ]
        }
      ]
    },
    {
      "cell_type": "code",
      "source": [
        "# Compile the model\n",
        "model.compile(loss=keras.losses.BinaryCrossentropy(), optimizer=keras.optimizers.Adam(), metrics=keras.metrics.Accuracy())"
      ],
      "metadata": {
        "id": "an12p5pQ85Kg"
      },
      "execution_count": 29,
      "outputs": []
    },
    {
      "cell_type": "markdown",
      "source": [
        "### Train the model and observe the validation"
      ],
      "metadata": {
        "id": "sRM17sp4C-2i"
      }
    },
    {
      "cell_type": "code",
      "source": [
        "num_epoch = 10\n",
        "\n",
        "history = model.fit(train_dataset, epochs=num_epoch, validation_data = test_dataset)"
      ],
      "metadata": {
        "colab": {
          "base_uri": "https://localhost:8080/"
        },
        "id": "lNEUfstFC633",
        "outputId": "57ee094b-cfbc-4587-f4c7-3f0cbfdd5119"
      },
      "execution_count": 30,
      "outputs": [
        {
          "output_type": "stream",
          "name": "stdout",
          "text": [
            "Epoch 1/10\n",
            "98/98 [==============================] - 290s 3s/step - loss: 0.6322 - accuracy: 0.0000e+00 - val_loss: 0.4914 - val_accuracy: 0.0000e+00\n",
            "Epoch 2/10\n",
            "98/98 [==============================] - 280s 3s/step - loss: 0.3999 - accuracy: 0.0000e+00 - val_loss: 0.4194 - val_accuracy: 0.0000e+00\n",
            "Epoch 3/10\n",
            "98/98 [==============================] - 296s 3s/step - loss: 0.2957 - accuracy: 0.0000e+00 - val_loss: 0.4114 - val_accuracy: 0.0000e+00\n",
            "Epoch 4/10\n",
            "98/98 [==============================] - 285s 3s/step - loss: 0.2376 - accuracy: 0.0000e+00 - val_loss: 0.4021 - val_accuracy: 0.0000e+00\n",
            "Epoch 5/10\n",
            "98/98 [==============================] - 306s 3s/step - loss: 0.3557 - accuracy: 0.0000e+00 - val_loss: 0.4688 - val_accuracy: 0.0000e+00\n",
            "Epoch 6/10\n",
            "98/98 [==============================] - 278s 3s/step - loss: 0.2894 - accuracy: 0.0000e+00 - val_loss: 0.3913 - val_accuracy: 0.0000e+00\n",
            "Epoch 7/10\n",
            "98/98 [==============================] - 277s 3s/step - loss: 0.1962 - accuracy: 0.0000e+00 - val_loss: 0.4142 - val_accuracy: 0.0000e+00\n",
            "Epoch 8/10\n",
            "98/98 [==============================] - 306s 3s/step - loss: 0.1678 - accuracy: 0.0000e+00 - val_loss: 0.4239 - val_accuracy: 0.0000e+00\n",
            "Epoch 9/10\n",
            "98/98 [==============================] - 277s 3s/step - loss: 0.1475 - accuracy: 0.0000e+00 - val_loss: 0.4573 - val_accuracy: 0.0000e+00\n",
            "Epoch 10/10\n",
            "98/98 [==============================] - 286s 3s/step - loss: 0.1308 - accuracy: 0.0000e+00 - val_loss: 0.4775 - val_accuracy: 0.0000e+00\n"
          ]
        }
      ]
    },
    {
      "cell_type": "code",
      "source": [
        "import matplotlib.pyplot as plt\n",
        "\n",
        "# Plot utility\n",
        "def plot_graphs(history, string):\n",
        "  plt.plot(history.history[string])\n",
        "  plt.plot(history.history['val_'+string])\n",
        "  plt.xlabel(\"Epochs\")\n",
        "  plt.ylabel(string)\n",
        "  plt.legend([string, 'val_'+string])\n",
        "  plt.show()\n",
        "\n",
        "# Plot the accuracy and results\n",
        "plot_graphs(history, \"accuracy\")\n",
        "plot_graphs(history, \"loss\")"
      ],
      "metadata": {
        "colab": {
          "base_uri": "https://localhost:8080/",
          "height": 881
        },
        "id": "-S8KoLd-GcKo",
        "outputId": "0b6be3f6-581d-438a-9545-600120615c05"
      },
      "execution_count": 31,
      "outputs": [
        {
          "output_type": "display_data",
          "data": {
            "text/plain": [
              "<Figure size 640x480 with 1 Axes>"
            ],
            "image/png": "[encoded data removed]"
          },
          "metadata": {}
        },
        {
          "output_type": "display_data",
          "data": {
            "text/plain": [
              "<Figure size 640x480 with 1 Axes>"
            ],
            "image/png": "[encoded data removed]"
          },
          "metadata": {}
        }
      ]
    }
  ]
}